{
 "cells": [
  {
   "cell_type": "code",
   "execution_count": 1,
   "metadata": {
    "collapsed": false,
    "deletable": true,
    "editable": true
   },
   "outputs": [],
   "source": [
    "import gym\n",
    "import gym_pull\n",
    "import numpy as np\n",
    "from MarioDQNAgent import MarioDQNAgent\n",
    "import tensorflow as tf"
   ]
  },
  {
   "cell_type": "code",
   "execution_count": null,
   "metadata": {
    "collapsed": false,
    "deletable": true,
    "editable": true
   },
   "outputs": [],
   "source": [
    "with tf.device('/gpu:0'):\n",
    "    \n",
    "    with tf.Session() as session:\n",
    "        \n",
    "        env = gym.make('SuperMarioBros-1-1-v0')\n",
    "        state_size = [224,256,1] #we will convert the images to grayscale\n",
    "        gamma = 0.99 #discount\n",
    "        num_episodes = 20 #how many levels to attempt\n",
    "        batch_size = 32 #SARST batch size\n",
    "        \n",
    "        #Given six NES buttons, and a lifetime of playing Mario, I've determined there are really on 14\n",
    "        #button combinations you would ever play. you can override these using ppaquette's wrappers, but\n",
    "        #i prefer to do them here so you can define different button combos\n",
    "        button_maps = [\n",
    "            \n",
    "            #THE FIRST ACTION MUST BE NOOP\n",
    "            [0,0,0,0,0,0], #0 - no button,\n",
    "            \n",
    "            #AFTER THAT, THE ORDER DOES NOT MATTER\n",
    "            [1,0,0,0,0,0], #1 - up only (to climb vine)\n",
    "            [0,1,0,0,0,0], #2 - left only\n",
    "            [0,0,1,0,0,0], #3 - down only (duck, down pipe)\n",
    "            [0,0,0,1,0,0], #4 - right only\n",
    "            [0,0,0,0,1,0], #5 - run only\n",
    "            [0,0,0,0,0,1], #6 - jump only\n",
    "            [0,1,0,0,1,0], #7 - left run\n",
    "            [0,1,0,0,0,1], #8 - left jump\n",
    "            [0,0,0,1,1,0], #9 - right run\n",
    "            [0,0,0,1,0,1], #10 - right jump\n",
    "            [0,1,0,0,1,1], #11 - left run jump\n",
    "            [0,0,0,1,1,1], #12 - right run jump\n",
    "            [0,0,1,0,0,1], #13 - down jump\n",
    "        ]\n",
    "        \n",
    "        agent = MarioDQNAgent(env,\n",
    "                              session,\n",
    "                              gamma,\n",
    "                              state_size,\n",
    "                              button_maps,\n",
    "                              memory_capacity=10000,\n",
    "                              num_episodes=num_episodes,\n",
    "                              batch_size=batch_size)\n",
    "\n",
    "        agent.train()\n",
    "\n"
   ]
  },
  {
   "cell_type": "code",
   "execution_count": null,
   "metadata": {
    "collapsed": true,
    "deletable": true,
    "editable": true
   },
   "outputs": [],
   "source": []
  }
 ],
 "metadata": {
  "kernelspec": {
   "display_name": "Python 2",
   "language": "python",
   "name": "python2"
  },
  "language_info": {
   "codemirror_mode": {
    "name": "ipython",
    "version": 2
   },
   "file_extension": ".py",
   "mimetype": "text/x-python",
   "name": "python",
   "nbconvert_exporter": "python",
   "pygments_lexer": "ipython2",
   "version": "2.7.12"
  }
 },
 "nbformat": 4,
 "nbformat_minor": 2
}
